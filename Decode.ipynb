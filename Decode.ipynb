{
 "cells": [
  {
   "cell_type": "code",
   "execution_count": 11,
   "metadata": {},
   "outputs": [
    {
     "name": "stdout",
     "output_type": "stream",
     "text": [
      "DNA sequence: GATGATGATGATCAAGATGACGAGGTACAAGTTGTCGTGGCA\n",
      "\n",
      "['1100011', '1000111', '0001110', '0011000', '0011000', '1110010', '1100111', '1010010', '0000110', '1011101', '1011011', '1111000']\n"
     ]
    }
   ],
   "source": [
    "import re\n",
    "import hashlib\n",
    "import bchlib\n",
    "import math\n",
    "import os\n",
    "import random\n",
    "import numpy as np\n",
    "\n",
    "#Read file into DNA list\n",
    "def readfile(filename):\n",
    "    input =[]\n",
    "    fp = open(filename, \"r\")\n",
    "    for line in iter(fp):\n",
    "        input.append(line)\n",
    "    fp.close()\n",
    "    \n",
    "    content_list=[]\n",
    "    for i in range(len(input)):\n",
    "        content_list.append( input[i].replace(\"\\n\",'',len(input[i])))\n",
    "    \n",
    "    return content_list\n",
    "\n",
    "def DNA_to_hex(input):\n",
    "    output =[]\n",
    "    DNA = {\"0\":\"AA\",\"1\":\"AT\",\"2\":\"AC\",\"3\":\"AG\",\n",
    "           \"4\":'TA',\"5\":\"TT\",\"6\":\"TC\",\"7\":\"TG\",\n",
    "           \"8\":\"CA\",\"9\":\"CT\",\"a\":\"CC\",\"b\":\"CG\",\n",
    "           \"c\":\"GA\",\"d\":\"GT\",\"e\":\"GC\",\"f\":\"GG\"}\n",
    "    reversed_DNA= {value : key for (key, value) in DNA.items()}\n",
    "    for i in input:\n",
    "        output.append(reversed_DNA[i])\n",
    "    return output\n",
    "\n",
    "def DNA_to_bin(input):\n",
    "    output =[]\n",
    "    DNA={\"00\":\"A\",\"01\":\"T\",\"10\":\"C\",\"11\":\"G\"}\n",
    "    reversed_DNA= {value : key for (key, value) in DNA.items()}\n",
    "    for i in input:\n",
    "        output.append(reversed_DNA[i])\n",
    "    return output\n",
    "\n",
    "def file_preprocess_1(string): \n",
    "    input=\"\".join(string.split()) \n",
    "    return re.findall('.',input)\n",
    "\n",
    "def file_preprocess_7(string): \n",
    "    input=\"\".join(string.split()) \n",
    "    return re.findall('.......',input)\n",
    "\n",
    "if __name__ == '__main__':\n",
    "    input = readfile('file_io.txt')\n",
    "    DNA_input = file_preprocess_1(input[0])\n",
    "    bin_input = \"\".join(DNA_to_bin(DNA_input[65:]))\n",
    "    print('DNA sequence: '+\"\".join(DNA_input[65:])+'\\n')\n",
    "    print(file_preprocess_7(bin_input))\n",
    "    \n",
    "    \n",
    "\n",
    "    "
   ]
  },
  {
   "cell_type": "code",
   "execution_count": null,
   "metadata": {},
   "outputs": [],
   "source": []
  },
  {
   "cell_type": "code",
   "execution_count": null,
   "metadata": {},
   "outputs": [],
   "source": []
  }
 ],
 "metadata": {
  "kernelspec": {
   "display_name": "Python 3",
   "language": "python",
   "name": "python3"
  },
  "language_info": {
   "codemirror_mode": {
    "name": "ipython",
    "version": 3
   },
   "file_extension": ".py",
   "mimetype": "text/x-python",
   "name": "python",
   "nbconvert_exporter": "python",
   "pygments_lexer": "ipython3",
   "version": "3.7.7"
  }
 },
 "nbformat": 4,
 "nbformat_minor": 4
}
