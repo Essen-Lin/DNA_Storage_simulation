{
 "cells": [
  {
   "cell_type": "code",
   "execution_count": 13,
   "metadata": {},
   "outputs": [
    {
     "name": "stdout",
     "output_type": "stream",
     "text": [
      "GACGTCAGACGTCAGACGTCAGACGTCAGTACGTGAGTACTGAGTAGTGAGTAGATCTAGTATCGTACGCTCGACTGAGTCTATCTAGAGCTCTACGCTACGTACGCTAGAGTCAGTAGTACTGAGACGACGCTAGTACGCTCTAGTAGCTACGTATCGTCGTCGCTACTCGACAGAGAGAGCTCGAGAGTGAGACGTCAGTCGTCTCAGTAGTCTGACTAGAGCTACGTAGATCGAGACTATCGTCGATCTAGTCTATCTAGTCGATCGACTACGCTACTCTGACTCGAGTGACTACGATCGTCGTCTGAGACGTCG\n",
      "64\n"
     ]
    }
   ],
   "source": [
    "#Encode\n",
    "import re\n",
    "import hashlib\n",
    "import bchlib\n",
    "import math\n",
    "import os\n",
    "import random\n",
    "import numpy as np\n",
    "\n",
    "#Read file into binary string\n",
    "def readfile(file):\n",
    "    file = open(file)\n",
    "    data = file.read()\n",
    "    file.close()\n",
    "    result = ' '.join(map(bin, bytearray(data, 'utf-8')))\n",
    "    #print(\"origin data:\"+result)\n",
    "    content_list = result.replace(\"0b\",'',len(result))\n",
    "    return content_list\n",
    "\n",
    "def readfile_byte(file):\n",
    "    file = open(file,'rb')\n",
    "    data = file.read()\n",
    "    file.close()\n",
    "    return data\n",
    "\n",
    "\n",
    "#Read file into binary string remove all whitespace and slice into two char  \n",
    "\n",
    "def remove_space(string):\n",
    "    output = \"\".join(string.split())\n",
    "    return  output\n",
    "\n",
    "def file_preprocess_1(string): \n",
    "    #input=\"\".join(string.split()) \n",
    "    return re.findall('.',string)\n",
    "\n",
    "def file_preprocess_2(string): \n",
    "    input=\"\".join(string.split()) \n",
    "    return re.findall('.',string)\n",
    "\n",
    "#binary to ATCG\n",
    "def bintoDNA(input):\n",
    "    output =[]\n",
    "    DNA={\"00\":\"A\",\"01\":\"T\",\"10\":\"C\",\"11\":\"G\",\" \":\" \"}\n",
    "        \n",
    "    if(input[0]=='0'):\n",
    "        output.append('C')\n",
    "    else:\n",
    "        output.append('G')\n",
    "        \n",
    "    #Huffman code 3bit to DNA    \n",
    "    j=0\n",
    "    for i in range(1,len(input)):\n",
    "        if(output[j]=='A'):            \n",
    "            if(input[i]=='0'):\n",
    "                output.append('C')\n",
    "            elif(input[i]=='1'):\n",
    "                output.append('G')\n",
    "            elif(input[i]==' '):\n",
    "                output.append('T')\n",
    "        elif(output[j]=='C'):            \n",
    "            if(input[i]=='0'):\n",
    "                output.append('G')\n",
    "            elif(input[i]=='1'):\n",
    "                output.append('T')\n",
    "            elif(input[i]==' '):\n",
    "                output.append('A')\n",
    "        elif(output[j]=='G'):            \n",
    "            if(input[i]=='0'):\n",
    "                output.append('T')\n",
    "            elif(input[i]=='1'):\n",
    "                output.append('A')\n",
    "            elif(input[i]==' '):\n",
    "                output.append('C')\n",
    "        elif(output[j]=='T'):            \n",
    "            if(input[i]=='0'):\n",
    "                output.append('A')\n",
    "            elif(input[i]=='1'):\n",
    "                output.append('C')\n",
    "            elif(input[i]==' '):\n",
    "                output.append('G')\n",
    "        j=j+1\n",
    "    return output  \n",
    "\n",
    "def divide_chunks(input, chunk_size): \n",
    "    # looping till length l \n",
    "    for i in range(0, len(input), chunk_size):  \n",
    "        yield input[i:i + chunk_size] \n",
    "\n",
    "def hex_to_DNA(input):\n",
    "    output =[]\n",
    "    DNA = {\"0\":\"AA\",\"1\":\"AT\",\"2\":\"AC\",\"3\":\"AG\",\n",
    "           \"4\":'TA',\"5\":\"TT\",\"6\":\"TC\",\"7\":\"TG\",\n",
    "           \"8\":\"CA\",\"9\":\"CT\",\"a\":\"CC\",\"b\":\"CG\",\n",
    "           \"c\":\"GA\",\"d\":\"GT\",\"e\":\"GC\",\"f\":\"GG\",}\n",
    "    for i in input:\n",
    "        output.append(DNA[i])\n",
    "    return output\n",
    "\n",
    "\n",
    "# perform conversion \n",
    "def str_to_int_list(test_list):\n",
    "    for i in range(0, len(test_list)): \n",
    "        test_list[i] = int(test_list[i])\n",
    "    return test_list\n",
    "\n",
    "\n",
    "def int_to_str_list(list_string): \n",
    "    # Converting integer list to string list \n",
    "    # and joining the list using join() \n",
    "    res = \"\".join(map(str, list_string))\n",
    "      \n",
    "    return res \n",
    "\n",
    "\n",
    "def encode_file(filename):\n",
    "    # create a bch object\n",
    "    BCH_POLYNOMIAL = 8219\n",
    "    BCH_BITS = 16\n",
    "    bch = bchlib.BCH(BCH_POLYNOMIAL, BCH_BITS)\n",
    "    \n",
    "    #readfile\n",
    "    data = bytearray(readfile_byte(filename))\n",
    "    \n",
    "    # encode and make a \"packet\"\n",
    "    ecc = bch.encode(data)\n",
    "    packet = data + ecc\n",
    "    \n",
    "    result = ' '.join(map(bin, packet))\n",
    "    content_list = result.replace(\"0b\",'',len(result))\n",
    "    DNA =bintoDNA(file_preprocess_1(content_list)) \n",
    "    return \"\".join(DNA)\n",
    "\n",
    "def generate_primer(filename):\n",
    "    with open(filename, \"rb\") as f:\n",
    "        buf = f.read()\n",
    "    m = hashlib.md5(buf)\n",
    "    input =  m.hexdigest()\n",
    "    result = hex_to_DNA(input)\n",
    "    return \"\".join(result)\n",
    "    \n",
    "\n",
    "\n",
    "print(encode_file ('B.txt'))\n",
    "print(len(generate_primer('B.txt')))  "
   ]
  },
  {
   "cell_type": "code",
   "execution_count": 14,
   "metadata": {},
   "outputs": [],
   "source": [
    "#file system simulation\n",
    "import re\n",
    "import hashlib\n",
    "import bchlib\n",
    "from diskcache import Cache, Index\n",
    "\n",
    "def hashfile(filename):\n",
    "    with open(filename, \"rb\") as f:\n",
    "        buf = f.read()\n",
    "    m = hashlib.md5(buf)\n",
    "    return m.hexdigest()\n",
    "\n",
    "\n",
    "mapping_table={}\n",
    "\n",
    "total_size =0\n",
    "\n",
    "def DNA_index(length,store_limit):\n",
    "    DNA_index_cold = ['1-A-cold','1-B-cold','1-C-cold'\n",
    "                      ,'2-A-cold','2-B-cold','2-C-cold'\n",
    "                      ,'3-A-cold','3-B-cold','3-C-cold'\n",
    "                      ,'4-A-cold','4-B-cold','4-C-cold'\n",
    "                      ,'5-A-cold','5-B-cold','5-C-cold']\n",
    "    global total_size\n",
    "    total_size += length\n",
    "    index = int(total_size/store_limit)\n",
    "    index_now = DNA_index_cold[index]\n",
    "    return index_now\n",
    "   \n",
    "    \n",
    "def file_key_mapping_table(filename,data,DNA_index):\n",
    "    key = hashfile(filename)\n",
    "    primer = \"\".join(hex_to_DNA(key))\n",
    "    file = str(filename)\n",
    "    index = DNA_index\n",
    "    file ={}\n",
    "    file[primer]=(data,index)\n",
    "    mapping_table.update(file)\n",
    "    return primer\n",
    "    \n",
    "\n",
    "#print(mapping_table)\n",
    "\n",
    "def getvalue(key):\n",
    "    return mapping_table[key][0]\n",
    "    \n",
    "def getindex(key):\n",
    "    return mapping_table[key][1]\n",
    "    \n",
    "\n",
    "#Cache simulation\n",
    "cache = Cache()\n",
    "\n",
    "#寫入cache之中\n",
    "def WriteInCache(key):\n",
    "    Cache_index = getindex(key)\n",
    "    Cache_value = getvalue(key)\n",
    "    cache.add(Cache_index, Cache_value)\n",
    "    \n",
    "#從cache 讀取資料\n",
    "def ReadFromCache(index):\n",
    "    if(index in cache):\n",
    "        return cache[index]\n",
    "    else:\n",
    "        print(\"Not in Cache\")\n",
    "\n",
    "\n",
    "cache.close()\n",
    "\n",
    "#DNA Storage simulation\n",
    "\n",
    "DNA_library= {\"1-A-cold\":[],\"2-A-cold\":[],\"3-A-cold\":[],\"4-A-cold\":[],\"5-A-cold\":[]\n",
    "             ,\"1-B-cold\":[],\"2-B-cold\":[],\"3-B-cold\":[],\"4-B-cold\":[],\"5-B-cold\":[]\n",
    "             ,\"1-C-cold\":[],\"2-C-cold\":[],\"3-C-cold\":[],\"4-C-cold\":[],\"5-C-cold\":[]\n",
    "             ,\"1-A-hot\":[],\"2-A-hot\":[],\"3-A-hot\":[],\"4-A-hot\":[],\"5-A-hot\":[]\n",
    "             ,\"1-B-hot\":[],\"2-B-hot\":[],\"3-B-hot\":[],\"4-B-hot\":[],\"5-B-hot\":[]\n",
    "             ,\"1-C-hot\":[],\"2-C-hot\":[],\"3-C-hot\":[],\"4-C-hot\":[],\"5-C-hot\":[]}\n",
    "    \n",
    "def DNAlibrary_clear(index):\n",
    "    DNA_library[index].clear()\n",
    "    \n",
    "def WriteInDNA(index, Encode_data):\n",
    "    DNA_library[index].append(Encode_data)\n",
    "\n",
    "def ReadFormDNA(index):\n",
    "    return DNA_library[index]\n",
    "    \n"
   ]
  },
  {
   "cell_type": "code",
   "execution_count": 15,
   "metadata": {},
   "outputs": [
    {
     "data": {
      "text/plain": [
       "2730"
      ]
     },
     "execution_count": 15,
     "metadata": {},
     "output_type": "execute_result"
    }
   ],
   "source": [
    "def synthesis_cost(length):\n",
    "    if length < 79:\n",
    "        syn_cost = 1600\n",
    "    elif length < 110 and length >= 80:\n",
    "        syn_cost = 1800\n",
    "    elif length < 130 and length >= 111:\n",
    "        syn_cost = 2000\n",
    "    elif length < 150 and length >= 131:\n",
    "        syn_cost = 2200\n",
    "    elif length < 170 and length >= 151:\n",
    "        syn_cost = 2400\n",
    "    else:\n",
    "        syn_cost = length*15\n",
    "    \n",
    "    return syn_cost\n",
    "        \n",
    "synthesis_cost(182)"
   ]
  },
  {
   "cell_type": "code",
   "execution_count": 16,
   "metadata": {},
   "outputs": [
    {
     "data": {
      "text/plain": [
       "6.0"
      ]
     },
     "execution_count": 16,
     "metadata": {},
     "output_type": "execute_result"
    }
   ],
   "source": [
    "def sequencing_cost(length):\n",
    "    if length <= 10:\n",
    "        seq_cost = 5\n",
    "    elif length <= 96 and length >= 10:\n",
    "        seq_cost = 4.8\n",
    "    elif length <= 480 and length >= 97:\n",
    "        seq_cost = 2000\n",
    "    else:\n",
    "        seq_cost = length*0.006\n",
    "    return seq_cost\n",
    "\n",
    "sequencing_cost(1000)"
   ]
  },
  {
   "cell_type": "code",
   "execution_count": 17,
   "metadata": {},
   "outputs": [
    {
     "name": "stdout",
     "output_type": "stream",
     "text": [
      "Original - DNA encoding time = 5400 (s)\n",
      "DNA synthesis time = 606600 (s)\n",
      "DNA purification time = 10800 (s)\n",
      "DNA sequencing time = 100800 (s)\n",
      "Original - DNA decoding time = 13966 (s)\n"
     ]
    },
    {
     "data": {
      "text/plain": [
       "13966"
      ]
     },
     "execution_count": 17,
     "metadata": {},
     "output_type": "execute_result"
    }
   ],
   "source": [
    "import random\n",
    "def original_time_sim():\n",
    "    file_encoding_time_original = 3600\n",
    "    file_encoding_hands_on_time_original =1800\n",
    "    DNA_synthesis = 3600*24*7\n",
    "    DNA_synthesis_hands_on_time =1800\n",
    "    DNA_purification = 7200\n",
    "    DNA_purification_hands_on_time = 3600\n",
    "    DNA_sequencing = 3600*24\n",
    "    DNA_sequencing_hands_on_time = 3600*4\n",
    "    DNA_sequencing_meaurement_time = 3600*17\n",
    "    file_decoding_time_original =  random.randint(3600,3600*6)\n",
    "    file_decoding_hands_on_time_original =600\n",
    "\n",
    "    print(f'Original - DNA encoding time = {file_encoding_time_original + file_encoding_hands_on_time_original} (s)' )\n",
    "    print(f'DNA synthesis time = {DNA_synthesis+DNA_synthesis_hands_on_time} (s)' )\n",
    "    print(f'DNA purification time = {DNA_purification + DNA_purification_hands_on_time} (s)' )\n",
    "    print(f'DNA sequencing time = {DNA_sequencing + DNA_sequencing_hands_on_time} (s)' )\n",
    "    print(f'Original - DNA decoding time = {file_decoding_time_original + file_decoding_hands_on_time_original} (s)' )\n",
    "    return file_decoding_time_original + file_decoding_hands_on_time_original\n",
    "\n",
    "original_time_sim()"
   ]
  },
  {
   "cell_type": "code",
   "execution_count": 18,
   "metadata": {},
   "outputs": [
    {
     "name": "stdout",
     "output_type": "stream",
     "text": [
      "T1: Write  B C file to file system\n"
     ]
    }
   ],
   "source": [
    "#主程式\n",
    "\n",
    "print(\"T1: Write  B C file to file system\")\n",
    "\n",
    "\n",
    "#執行程式 Part1 \n",
    "#將檔案寫入file system\n",
    "mapping_table.clear()\n",
    "total_size =0\n",
    "\n",
    "primer_A = file_key_mapping_table('A.txt', readfile_byte('A.txt'),DNA_index(len(readfile('A.txt')),1024))\n",
    "primer_B = file_key_mapping_table('B.txt', readfile_byte('B.txt'),DNA_index(len(readfile('B.txt')),1024))\n",
    "primer_C = file_key_mapping_table('C.txt', readfile_byte('C.txt'),DNA_index(len(readfile('C.txt')),1024))\n",
    "primer_D = file_key_mapping_table('D.txt', readfile_byte('D.txt'),DNA_index(len(readfile('D.txt')),1024))\n",
    "\n",
    "#print(mapping_table)\n",
    "\n",
    "\n",
    "#執行程式 Part 2 \n",
    "#2-1給定primer 將資料寫入cache \n",
    "WriteInCache(primer_A)\n",
    "WriteInCache(primer_B)\n",
    "WriteInCache(primer_C)\n",
    "WriteInCache(primer_D)\n",
    "\n",
    "#2-2讀取cache中資料\n",
    "\n",
    "\n",
    "#執行程式 Part 3\n",
    "#3-1將得知的index 將資料寫入DNA libraray\n",
    "#3-2讀取DNA中資料\n",
    "DNAlibrary_clear(getindex(primer_A))\n",
    "DNAlibrary_clear(getindex(primer_B))\n",
    "DNAlibrary_clear(getindex(primer_C))\n",
    "DNAlibrary_clear(getindex(primer_D))\n",
    "WriteInDNA(getindex(primer_A), encode_file ('A.txt'))\n",
    "WriteInDNA(getindex(primer_B), encode_file ('B.txt'))\n",
    "WriteInDNA(getindex(primer_C), encode_file ('C.txt'))\n",
    "WriteInDNA(getindex(primer_D), encode_file ('D.txt'))\n"
   ]
  },
  {
   "cell_type": "code",
   "execution_count": 19,
   "metadata": {},
   "outputs": [
    {
     "name": "stdout",
     "output_type": "stream",
     "text": [
      "\n",
      "讀取cache中資料\n",
      "C.txt:  b'1111 1234 5678'\n",
      "Our Method-讀取C所花的時間: 0.0010178089141845703\n"
     ]
    }
   ],
   "source": [
    "import time\n",
    "#計算讀取C的成本 - 都是重複的所以只需計算讀取cache時間\n",
    "print(\"\\n讀取cache中資料\")\n",
    "\n",
    "start = time.time()\n",
    "print(\"C.txt: \",ReadFromCache(getindex(primer_C)))\n",
    "end = time.time()\n",
    "C_time = end-start\n",
    "print('Our Method-讀取C所花的時間:',end-start)"
   ]
  },
  {
   "cell_type": "code",
   "execution_count": 20,
   "metadata": {},
   "outputs": [
    {
     "name": "stdout",
     "output_type": "stream",
     "text": [
      "計算讀取C的成本:  7.644\n",
      "Original - DNA encoding time = 5400 (s)\n",
      "DNA synthesis time = 606600 (s)\n",
      "DNA purification time = 10800 (s)\n",
      "DNA sequencing time = 100800 (s)\n",
      "Original - DNA decoding time = 17842 (s)\n",
      "讀取C所花的時間: 129442 (s)\n"
     ]
    }
   ],
   "source": [
    "#計算讀取C的成本--原始讀取成本\n",
    "C=ReadFormDNA(getindex(primer_C))\n",
    "\n",
    "print('計算讀取C的成本: ',sequencing_cost(len(C[1])+len(C[0])))\n",
    "print('讀取C所花的時間:',10800+100800+original_time_sim(),'(s)')\n",
    "\n"
   ]
  },
  {
   "cell_type": "code",
   "execution_count": 21,
   "metadata": {},
   "outputs": [],
   "source": [
    "#計算要重複寫入C的成本 - 都是重複的所以只需判斷有無重複的C\n",
    "\n",
    "if(getindex(primer_C)==ReadFromCache(getindex(primer_C))):\n",
    "    print('已寫入')"
   ]
  },
  {
   "cell_type": "code",
   "execution_count": 22,
   "metadata": {},
   "outputs": [
    {
     "name": "stdout",
     "output_type": "stream",
     "text": [
      "b'DNA STORAGE:\\n\\nstep1 encoding\\n\\nstep2 DNA synthesis\\n\\nstep3 storage\\n\\nstep4 sequencing\\n\\nstep5 decoding '\n"
     ]
    },
    {
     "data": {
      "text/plain": [
       "b'1111 1234 5678'"
      ]
     },
     "execution_count": 22,
     "metadata": {},
     "output_type": "execute_result"
    }
   ],
   "source": [
    "print(getvalue(primer_C))\n",
    "ReadFromCache(getindex(primer_C))"
   ]
  },
  {
   "cell_type": "code",
   "execution_count": null,
   "metadata": {},
   "outputs": [],
   "source": []
  }
 ],
 "metadata": {
  "kernelspec": {
   "display_name": "Python 3",
   "language": "python",
   "name": "python3"
  },
  "language_info": {
   "codemirror_mode": {
    "name": "ipython",
    "version": 3
   },
   "file_extension": ".py",
   "mimetype": "text/x-python",
   "name": "python",
   "nbconvert_exporter": "python",
   "pygments_lexer": "ipython3",
   "version": "3.7.7"
  }
 },
 "nbformat": 4,
 "nbformat_minor": 4
}
