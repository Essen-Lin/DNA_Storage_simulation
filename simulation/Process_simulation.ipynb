{
 "cells": [
  {
   "cell_type": "code",
   "execution_count": 5,
   "metadata": {},
   "outputs": [
    {
     "data": {
      "text/plain": [
       "2730"
      ]
     },
     "execution_count": 5,
     "metadata": {},
     "output_type": "execute_result"
    }
   ],
   "source": [
    "def synthesis_cost(length):\n",
    "    if length < 79:\n",
    "        syn_cost = 1600\n",
    "    elif length < 110 and length >= 80:\n",
    "        syn_cost = 1800\n",
    "    elif length < 130 and length >= 111:\n",
    "        syn_cost = 2000\n",
    "    elif length < 150 and length >= 131:\n",
    "        syn_cost = 2200\n",
    "    elif length < 170 and length >= 151:\n",
    "        syn_cost = 2400\n",
    "    else:\n",
    "        syn_cost = length*15\n",
    "    \n",
    "    return syn_cost\n",
    "        \n",
    "synthesis_cost(182)"
   ]
  },
  {
   "cell_type": "code",
   "execution_count": 8,
   "metadata": {},
   "outputs": [
    {
     "data": {
      "text/plain": [
       "6.0"
      ]
     },
     "execution_count": 8,
     "metadata": {},
     "output_type": "execute_result"
    }
   ],
   "source": [
    "def sequencing_cost(length):\n",
    "    if length <= 10:\n",
    "        seq_cost = 5\n",
    "    elif length <= 96 and length >= 10:\n",
    "        seq_cost = 4.8\n",
    "    elif length <= 480 and length >= 97:\n",
    "        seq_cost = 2000\n",
    "    else:\n",
    "        seq_cost = length*0.006\n",
    "    return syn_cost\n",
    "\n",
    "sequencing_cost(1000)"
   ]
  },
  {
   "cell_type": "code",
   "execution_count": 20,
   "metadata": {},
   "outputs": [
    {
     "name": "stdout",
     "output_type": "stream",
     "text": [
      "Original - DNA encoding time = 5400 (s)\n",
      "DNA synthesis time = 606600 (s)\n",
      "DNA purification time = 10800 (s)\n",
      "DNA sequencing time = 100800 (s)\n",
      "Original - DNA decoding time = 16320 (s)\n"
     ]
    }
   ],
   "source": [
    "import random\n",
    "def original_time_sim():\n",
    "    file_encoding_time_original = 3600\n",
    "    file_encoding_hands_on_time_original =1800\n",
    "    DNA_synthesis = 3600*24*7\n",
    "    DNA_synthesis_hands_on_time =1800\n",
    "    DNA_purification = 7200\n",
    "    DNA_purification_hands_on_time = 3600\n",
    "    DNA_sequencing = 3600*24\n",
    "    DNA_sequencing_hands_on_time = 3600*4\n",
    "    DNA_sequencing_meaurement_time = 3600*17\n",
    "    file_decoding_time_original =  random.randint(3600,3600*6)\n",
    "    file_decoding_hands_on_time_original =600\n",
    "\n",
    "    print(f'Original - DNA encoding time = {file_encoding_time_original + file_encoding_hands_on_time_original} (s)' )\n",
    "    print(f'DNA synthesis time = {DNA_synthesis+DNA_synthesis_hands_on_time} (s)' )\n",
    "    print(f'DNA purification time = {DNA_purification + DNA_purification_hands_on_time} (s)' )\n",
    "    print(f'DNA sequencing time = {DNA_sequencing + DNA_sequencing_hands_on_time} (s)' )\n",
    "    print(f'Original - DNA decoding time = {file_decoding_time_original + file_decoding_hands_on_time_original} (s)' )\n",
    "\n",
    "original_time_sim()"
   ]
  },
  {
   "cell_type": "code",
   "execution_count": null,
   "metadata": {},
   "outputs": [],
   "source": []
  }
 ],
 "metadata": {
  "kernelspec": {
   "display_name": "Python 3",
   "language": "python",
   "name": "python3"
  },
  "language_info": {
   "codemirror_mode": {
    "name": "ipython",
    "version": 3
   },
   "file_extension": ".py",
   "mimetype": "text/x-python",
   "name": "python",
   "nbconvert_exporter": "python",
   "pygments_lexer": "ipython3",
   "version": "3.7.7"
  }
 },
 "nbformat": 4,
 "nbformat_minor": 4
}
